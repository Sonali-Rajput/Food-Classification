{
 "cells": [
  {
   "cell_type": "code",
   "execution_count": 1,
   "id": "f7a928ff",
   "metadata": {},
   "outputs": [],
   "source": [
    "from tensorflow.keras.models import Model, load_model\n",
    "from lime import lime_image\n",
    "import tensorflow as tf\n",
    "import matplotlib.pyplot as plt\n",
    "import matplotlib.image as mpimg\n",
    "from skimage.segmentation import mark_boundaries\n",
    "import pandas as pd\n",
    "import numpy as np\n",
    "from keras_preprocessing.image import ImageDataGenerator, img_to_array, load_img\n",
    "\n",
    "explainer = lime_image.LimeImageExplainer()"
   ]
  },
  {
   "cell_type": "code",
   "execution_count": 11,
   "id": "6942dcd4",
   "metadata": {},
   "outputs": [],
   "source": [
    "model = tf.keras.models.load_model(r'AML/xnception_65/inception.h5')"
   ]
  },
  {
   "cell_type": "code",
   "execution_count": null,
   "id": "f2f2626c",
   "metadata": {},
   "outputs": [],
   "source": []
  },
  {
   "cell_type": "code",
   "execution_count": 36,
   "id": "b497f5a5",
   "metadata": {},
   "outputs": [
    {
     "name": "stdout",
     "output_type": "stream",
     "text": [
      "Found 7653 validated image filenames belonging to 1 classes.\n"
     ]
    }
   ],
   "source": [
    "IMG_HEIGHT=IMG_WIDTH=299\n",
    "sample = pd.read_csv(\"AML/food-recognition-challenge-2021/sample.csv\",dtype={'img_name':str, 'label':str} )\n",
    "test_datagen = ImageDataGenerator(\n",
    "    rescale=1./255\n",
    ")\n",
    "test_generator = test_datagen.flow_from_dataframe(\n",
    "    dataframe=sample,\n",
    "    directory= \"AML/food-recognition-challenge-2021/test_set/test_set/\" , \n",
    "    x_col='img_name',\n",
    "    y_col='label',\n",
    "    class_mode = 'categorical',\n",
    "    shuffle=False,\n",
    "    target_size=(IMG_HEIGHT,IMG_WIDTH) \n",
    ")\n",
    "\n",
    "batch = test_generator.next()\n"
   ]
  },
  {
   "cell_type": "code",
   "execution_count": 76,
   "id": "5e148480",
   "metadata": {},
   "outputs": [],
   "source": [
    "def draw_explanation(image):\n",
    "    explanation = explainer.explain_instance(image.astype('double'), model.predict,  \n",
    "                                         top_labels=1, hide_color=0, num_samples=1000)\n",
    "    temp, mask = explanation.get_image_and_mask(explanation.top_labels[0], positive_only=False, num_features=10, hide_rest=False)\n",
    "    fig, (ax1, ax2) = plt.subplots(2)\n",
    "    ax1.imshow(image)\n",
    "    ax2.imshow(mark_boundaries(temp, mask))\n"
   ]
  },
  {
   "cell_type": "code",
   "execution_count": 88,
   "id": "3afef4d3",
   "metadata": {},
   "outputs": [
    {
     "data": {
      "text/plain": [
       "'compote'"
      ]
     },
     "execution_count": 88,
     "metadata": {},
     "output_type": "execute_result"
    }
   ],
   "source": [
    "class_names = np.load('class_names.npy', allow_pickle=True).item()\n",
    "\n",
    "class_names[9]"
   ]
  },
  {
   "cell_type": "code",
   "execution_count": null,
   "id": "2d554333",
   "metadata": {},
   "outputs": [],
   "source": [
    "for i in range(11,30):\n",
    "    print(i)\n",
    "    draw_explanation(batch[0][i])"
   ]
  },
  {
   "cell_type": "code",
   "execution_count": null,
   "id": "1d4e020c",
   "metadata": {},
   "outputs": [],
   "source": []
  }
 ],
 "metadata": {
  "kernelspec": {
   "display_name": "Python 3.9.12 ('ml': conda)",
   "language": "python",
   "name": "python3"
  },
  "language_info": {
   "codemirror_mode": {
    "name": "ipython",
    "version": 3
   },
   "file_extension": ".py",
   "mimetype": "text/x-python",
   "name": "python",
   "nbconvert_exporter": "python",
   "pygments_lexer": "ipython3",
   "version": "3.9.12"
  },
  "vscode": {
   "interpreter": {
    "hash": "7b8c8436aaa20c27cd5482b34b9375438f0b2d864c759a2f436aa651ea623196"
   }
  }
 },
 "nbformat": 4,
 "nbformat_minor": 5
}
